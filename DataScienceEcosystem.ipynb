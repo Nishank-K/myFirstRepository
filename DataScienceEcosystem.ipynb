{
 "cells": [
  {
   "cell_type": "markdown",
   "id": "1329df3a-e3de-40b9-a499-b39737dbe219",
   "metadata": {},
   "source": [
    "# Data Science Tools and Ecosystem"
   ]
  },
  {
   "cell_type": "markdown",
   "id": "c17fd228-2cfc-4528-bcd6-c0b66b74cc1e",
   "metadata": {},
   "source": [
    "In this notebook, Data Science Tools and Ecosystem are summarized."
   ]
  },
  {
   "cell_type": "markdown",
   "id": "05ae7094-5b67-4c76-bf40-6512fafa9a6e",
   "metadata": {},
   "source": [
    "**Objectives:**\n",
    "- List popular languages for Data Science\n",
    "- List commonly used libraries by Data Science\n",
    "- List of development environment open source tools used in data science"
   ]
  },
  {
   "cell_type": "markdown",
   "id": "0f772f75-24e2-4bbc-82a8-1010ad3da68f",
   "metadata": {},
   "source": [
    "## Author \n",
    "Nishank Khorgade"
   ]
  },
  {
   "cell_type": "markdown",
   "id": "ea09ed71-e87e-4e8d-8dfd-a9ce7d9659e9",
   "metadata": {},
   "source": [
    "Some of the popular languages that Data Scientists use are:\n",
    "1. Python\n",
    "2. R\n",
    "3. Julia"
   ]
  },
  {
   "cell_type": "markdown",
   "id": "9912fae1-ab59-476e-adda-9c304c797162",
   "metadata": {},
   "source": [
    "Some of the commonly used libraries used by Data Scientists include:\n",
    "1. NumPy\n",
    "2. Pandas\n",
    "3. Matplotlib"
   ]
  },
  {
   "cell_type": "markdown",
   "id": "4f530bea-a53a-4565-b9f8-ec179856eb5e",
   "metadata": {},
   "source": [
    "    | Data Science Tools |\n",
    "    |--------------------|\n",
    "    | Git                |\n",
    "    | Tensorflow         |\n",
    "    | Visual studio Code |"
   ]
  },
  {
   "cell_type": "markdown",
   "id": "56a4dfde-0578-40ac-9881-aaefa3405007",
   "metadata": {},
   "source": [
    "Below are a few examples of evaluating arithmetic expressions in Python"
   ]
  },
  {
   "cell_type": "code",
   "execution_count": 3,
   "id": "3798389f-c2b4-415d-be4b-a8b2f47116a1",
   "metadata": {
    "tags": []
   },
   "outputs": [
    {
     "data": {
      "text/plain": [
       "17"
      ]
     },
     "execution_count": 3,
     "metadata": {},
     "output_type": "execute_result"
    }
   ],
   "source": [
    "# This a simple arithmetic expression to mutiply then add integers\n",
    "(3*4)+5"
   ]
  },
  {
   "cell_type": "code",
   "execution_count": 4,
   "id": "945c4e14-bf2b-4f94-8e8e-3fe9952139ef",
   "metadata": {
    "tags": []
   },
   "outputs": [
    {
     "data": {
      "text/plain": [
       "3.3333333333333335"
      ]
     },
     "execution_count": 4,
     "metadata": {},
     "output_type": "execute_result"
    }
   ],
   "source": [
    "# This will convert 200 minutes to hours by diving by 60\n",
    "200/60"
   ]
  },
  {
   "cell_type": "code",
   "execution_count": null,
   "id": "5947e715-0be7-4839-958f-c77e485585fe",
   "metadata": {},
   "outputs": [],
   "source": []
  }
 ],
 "metadata": {
  "kernelspec": {
   "display_name": "Python",
   "language": "python",
   "name": "conda-env-python-py"
  },
  "language_info": {
   "codemirror_mode": {
    "name": "ipython",
    "version": 3
   },
   "file_extension": ".py",
   "mimetype": "text/x-python",
   "name": "python",
   "nbconvert_exporter": "python",
   "pygments_lexer": "ipython3",
   "version": "3.7.12"
  }
 },
 "nbformat": 4,
 "nbformat_minor": 5
}
